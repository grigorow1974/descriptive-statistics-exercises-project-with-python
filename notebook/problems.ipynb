{
    "cells": [
        {
            "cell_type": "markdown",
            "id": "ac622319",
            "metadata": {},
            "source": [
                "# Descriptive statistics problems"
            ]
        },
        {
            "cell_type": "markdown",
            "id": "5e0ab0d5",
            "metadata": {},
            "source": [
                "### Exercise 1\n",
                "\n",
                "We will use NumPy to obtain information to describe statistically.\n",
                "\n",
                "- Generate an array of 100 elements following a normal distribution.\n",
                "- Generate an array of 100 elements following a chi-square distribution with 3 degrees of freedom.\n",
                "- Calculate the main metrics and statistical measures that best describe the two vectors."
            ]
        },
        {
            "cell_type": "code",
            "execution_count": 49,
            "id": "34720ab6",
            "metadata": {},
            "outputs": [
                {
                    "name": "stdout",
                    "output_type": "stream",
                    "text": [
                        "Media Distribucion Normal: -0.10384651739409385\n",
                        "Media Distribucion Chi Cuadrado: 2.9380795335328225\n",
                        "Mediana Distribucion Normal: -0.1269562917797126\n",
                        "Mediana Distribucion Chi Cuadrado: 2.4636148965577283\n",
                        "Moda Distribucion Normal: 0.4967141530112327\n",
                        "Moda Distribucion Chi Cuadrado: 0.4168513022813494\n",
                        "Rango Estandar Normal: 4.472023288598682\n",
                        "Rango Chi Cuadrado: 12.592089274962756\n",
                        "Varianza Estandar Normal: 0.82476989363016\n",
                        "Varianza Chi Cuadrado: 5.87576054587392\n",
                        "Desviacion Estandar Normal: 0.9081684280078007\n",
                        "Desviacion Estandar Chi Cuadrado: 2.4239968122656266\n",
                        "Sesgo Normal: -0.17526772024433726\n",
                        "Sesgo Chi Cuadrado: 1.6683703423622345\n",
                        "Curtosis Normal: -0.1554047077420817\n",
                        "Curtosis Chi Cuadrado: 3.620577909892315\n"
                    ]
                }
            ],
            "source": [
                "# TODO\n",
                "import numpy as np\n",
                "import statistics as stats\n",
                "from scipy.stats import skew\n",
                "from scipy.stats import kurtosis\n",
                "np.random.seed(42)\n",
                "\n",
                "array1 = np.random.normal(size=100)\n",
                "array2 = np.random.chisquare(3,100)\n",
                "\n",
                "range1 = max(array1) - min(array1)\n",
                "range2 = max(array2) - min(array2)\n",
                "\n",
                "print (f'Media Distribucion Normal: {stats.mean(array1)}')\n",
                "print (f'Media Distribucion Chi Cuadrado: {stats.mean(array2)}')\n",
                "print (f'Mediana Distribucion Normal: {stats.median(array1)}')\n",
                "print (f'Mediana Distribucion Chi Cuadrado: {stats.median(array2)}')\n",
                "print (f'Moda Distribucion Normal: {stats.mode(array1)}')\n",
                "print (f'Moda Distribucion Chi Cuadrado: {stats.mode(array2)}')\n",
                "print (f'Rango Estandar Normal: {range1}')\n",
                "print (f'Rango Chi Cuadrado: {range2}')\n",
                "print (f'Varianza Estandar Normal: {stats.variance(array1)}')\n",
                "print (f'Varianza Chi Cuadrado: {stats.variance(array2)}')\n",
                "print (f'Desviacion Estandar Normal: {stats.stdev(array1)}')\n",
                "print (f'Desviacion Estandar Chi Cuadrado: {stats.stdev(array2)}')\n",
                "print (f'Sesgo Normal: {skew(array1)}')\n",
                "print (f'Sesgo Chi Cuadrado: {skew(array2)}')\n",
                "print (f'Curtosis Normal: {kurtosis(array1)}')\n",
                "print (f'Curtosis Chi Cuadrado: {kurtosis(array2)}')\n"
            ]
        },
        {
            "cell_type": "markdown",
            "id": "46c70c3d",
            "metadata": {},
            "source": [
                "### Exercise 2\n",
                "\n",
                "Write a Python program to calculate the standard deviation of the following data:\n",
                "\n",
                "```py\n",
                "data = [4, 2, 5, 8, 6]\n",
                "```"
            ]
        },
        {
            "cell_type": "code",
            "execution_count": 50,
            "id": "d590308e",
            "metadata": {},
            "outputs": [
                {
                    "name": "stdout",
                    "output_type": "stream",
                    "text": [
                        "Desviacion Estandar Manual:  2.23606797749979\n",
                        "Desviacion Estandar Stats: 2.23606797749979\n"
                    ]
                }
            ],
            "source": [
                "# TODO\n",
                "import numpy as np\n",
                "import statistics as stats\n",
                "\n",
                "data = [4, 2, 5, 8, 6]\n",
                "\n",
                "def promedio(lista):\n",
                "    suma = 0\n",
                "    for i in lista:\n",
                "        suma += i\n",
                "    return suma /len(lista)\n",
                "\n",
                "def std_dev(lista):\n",
                "    suma = 0\n",
                "    for i in lista:\n",
                "        suma += (i -promedio(data))**2\n",
                "    varianza = suma / (len(lista)-1)\n",
                "    return varianza**(0.5)\n",
                "\n",
                "print(f'Desviacion Estandar Manual:  {std_dev(data)}')\n",
                "print(f'Desviacion Estandar Stats: {stats.stdev(data)}')\n"
            ]
        }
    ],
    "metadata": {
        "interpreter": {
            "hash": "9248718ffe6ce6938b217e69dbcc175ea21f4c6b28a317e96c05334edae734bb"
        },
        "kernelspec": {
            "display_name": "Python 3.9.12 ('ML-BOOTCAMP')",
            "language": "python",
            "name": "python3"
        },
        "language_info": {
            "codemirror_mode": {
                "name": "ipython",
                "version": 3
            },
            "file_extension": ".py",
            "mimetype": "text/x-python",
            "name": "python",
            "nbconvert_exporter": "python",
            "pygments_lexer": "ipython3",
            "version": "3.11.4"
        }
    },
    "nbformat": 4,
    "nbformat_minor": 5
}
